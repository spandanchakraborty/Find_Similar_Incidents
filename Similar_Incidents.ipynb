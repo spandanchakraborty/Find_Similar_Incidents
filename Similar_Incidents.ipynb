{
 "cells": [
  {
   "cell_type": "markdown",
   "metadata": {},
   "source": [
    "## Find similar incidents using Document Similarity doc2bow (doc to bag of words) process\n",
    "#### This process can be particularly useful to find similar incidents reported by end users in an Enterprise. Once we find similar incidents the highest matching incident's resolution is most likely be helpful to resolve the current issue as well\n",
    "\n",
    "#### The code below was used for back end engine to provide a similarity index of incidents.\n"
   ]
  },
  {
   "cell_type": "markdown",
   "metadata": {},
   "source": [
    "### The structure of the code below follows Jonathan Mugan's \n",
    "#### Learn how to use the gensim Python library to determine the similarity between two or more documents\n",
    "https://www.oreilly.com/learning/how-do-i-compare-document-similarity-using-python "
   ]
  },
  {
   "cell_type": "code",
   "execution_count": 2,
   "metadata": {
    "collapsed": true
   },
   "outputs": [],
   "source": [
    "import pandas as pd\n",
    "import re # to be used for regular Expression\n",
    "import gensim  # python Library to be used to find similar documents\n",
    "from nltk.tokenize import word_tokenize\n",
    "from nltk.corpus import stopwords\n",
    "\n",
    "import requests\n",
    "import json\n",
    "import time\n"
   ]
  },
  {
   "cell_type": "code",
   "execution_count": 3,
   "metadata": {
    "collapsed": true
   },
   "outputs": [],
   "source": [
    "df_raw=pd.read_csv('./incidentMerged1.csv')\n"
   ]
  },
  {
   "cell_type": "code",
   "execution_count": 4,
   "metadata": {
    "collapsed": false
   },
   "outputs": [
    {
     "data": {
      "text/html": [
       "<div>\n",
       "<table border=\"1\" class=\"dataframe\">\n",
       "  <thead>\n",
       "    <tr style=\"text-align: right;\">\n",
       "      <th></th>\n",
       "      <th>number</th>\n",
       "      <th>short_description</th>\n",
       "    </tr>\n",
       "  </thead>\n",
       "  <tbody>\n",
       "    <tr>\n",
       "      <th>0</th>\n",
       "      <td>INC0212367</td>\n",
       "      <td>unable to send webex invite with 2 different c...</td>\n",
       "    </tr>\n",
       "    <tr>\n",
       "      <th>1</th>\n",
       "      <td>INC0208378</td>\n",
       "      <td>Needs help getting Webex dial conference room ...</td>\n",
       "    </tr>\n",
       "  </tbody>\n",
       "</table>\n",
       "</div>"
      ],
      "text/plain": [
       "       number                                  short_description\n",
       "0  INC0212367  unable to send webex invite with 2 different c...\n",
       "1  INC0208378  Needs help getting Webex dial conference room ..."
      ]
     },
     "execution_count": 4,
     "metadata": {},
     "output_type": "execute_result"
    }
   ],
   "source": [
    "df_raw.head(2)"
   ]
  },
  {
   "cell_type": "code",
   "execution_count": 5,
   "metadata": {
    "collapsed": false
   },
   "outputs": [
    {
     "data": {
      "text/plain": [
       "8739"
      ]
     },
     "execution_count": 5,
     "metadata": {},
     "output_type": "execute_result"
    }
   ],
   "source": [
    "len(df_raw)"
   ]
  },
  {
   "cell_type": "code",
   "execution_count": 6,
   "metadata": {
    "collapsed": true
   },
   "outputs": [],
   "source": [
    "df_inp=df_raw.copy()"
   ]
  },
  {
   "cell_type": "code",
   "execution_count": 7,
   "metadata": {
    "collapsed": false
   },
   "outputs": [
    {
     "data": {
      "text/html": [
       "<div>\n",
       "<table border=\"1\" class=\"dataframe\">\n",
       "  <thead>\n",
       "    <tr style=\"text-align: right;\">\n",
       "      <th></th>\n",
       "      <th>number</th>\n",
       "      <th>short_description</th>\n",
       "    </tr>\n",
       "  </thead>\n",
       "  <tbody>\n",
       "    <tr>\n",
       "      <th>0</th>\n",
       "      <td>INC0212367</td>\n",
       "      <td>unable to send webex invite with 2 different c...</td>\n",
       "    </tr>\n",
       "  </tbody>\n",
       "</table>\n",
       "</div>"
      ],
      "text/plain": [
       "       number                                  short_description\n",
       "0  INC0212367  unable to send webex invite with 2 different c..."
      ]
     },
     "execution_count": 7,
     "metadata": {},
     "output_type": "execute_result"
    }
   ],
   "source": [
    "df_inp.head(1)"
   ]
  },
  {
   "cell_type": "code",
   "execution_count": 8,
   "metadata": {
    "collapsed": true
   },
   "outputs": [],
   "source": [
    "df_filtered=df_inp.dropna(how='any',inplace=True)  ## Drop any record with value as NAN at any column"
   ]
  },
  {
   "cell_type": "code",
   "execution_count": 9,
   "metadata": {
    "collapsed": true
   },
   "outputs": [],
   "source": [
    "#df_inp['all_text']=df_inp['short_description']+' ' +df_inp['description']\n",
    "#df_inp['all_text']=df_inp[['description']].apply(lambda x: ' '.join(x), axis=1)\n",
    "df_inp['all_text']=df_inp['short_description']"
   ]
  },
  {
   "cell_type": "code",
   "execution_count": 10,
   "metadata": {
    "collapsed": false
   },
   "outputs": [
    {
     "data": {
      "text/plain": [
       "'unable to send webex invite with 2 different conference rooms'"
      ]
     },
     "execution_count": 10,
     "metadata": {},
     "output_type": "execute_result"
    }
   ],
   "source": [
    "df_inp.ix[0,'all_text']"
   ]
  },
  {
   "cell_type": "code",
   "execution_count": 11,
   "metadata": {
    "collapsed": false
   },
   "outputs": [
    {
     "data": {
      "text/plain": [
       "number                                                 INC0029541\n",
       "short_description    It seems that my AD Password is locked again\n",
       "all_text             It seems that my AD Password is locked again\n",
       "Name: 2335, dtype: object"
      ]
     },
     "execution_count": 11,
     "metadata": {},
     "output_type": "execute_result"
    }
   ],
   "source": [
    "df_inp.iloc[2335]"
   ]
  },
  {
   "cell_type": "code",
   "execution_count": 274,
   "metadata": {
    "collapsed": true
   },
   "outputs": [],
   "source": [
    "## drop all non text Columns\n",
    "#df_inp.drop(['sys_created_by','caller_id','sys_created_on','state','priority','opened_at','incident_state','knowledge'], axis=1, inplace=True)  \n",
    "#df_inp.drop(['first_assigned','u_incident_type','parent_incident','parent'], axis=1, inplace=True)\n",
    "#df_inp.drop(['u_parent_business_service','assigned_to','u_resolved_by'], axis=1, inplace=True)"
   ]
  },
  {
   "cell_type": "code",
   "execution_count": 12,
   "metadata": {
    "collapsed": false
   },
   "outputs": [
    {
     "name": "stdout",
     "output_type": "stream",
     "text": [
      "unable to send webex invite with 2 different conference rooms\n"
     ]
    },
    {
     "data": {
      "text/plain": [
       "'unable to send webex invite with 2 different conference rooms'"
      ]
     },
     "execution_count": 12,
     "metadata": {},
     "output_type": "execute_result"
    }
   ],
   "source": [
    "#### Reg EX to remove special Characaters and repalce with a space\n",
    "print(re.sub('[^A-Za-z0-9]+', ' ', df_inp.ix[0,-1]))\n",
    "df_inp.ix[0,-1]"
   ]
  },
  {
   "cell_type": "code",
   "execution_count": 13,
   "metadata": {
    "collapsed": true
   },
   "outputs": [],
   "source": [
    "#df_inp['text_clean']=df_inp['all_text'].map(lambda x: re.sub('[^A-Za-z0-9]+', ' ', x).lower())\n",
    "#df_inp['all_text']=df_inp['all_text'].str.lower()\n",
    "df_inp['text_clean']=df_inp['all_text'].map(lambda x: re.sub('[^A-Za-z0-9]+', ' ', x).lower())"
   ]
  },
  {
   "cell_type": "code",
   "execution_count": 14,
   "metadata": {
    "collapsed": false
   },
   "outputs": [
    {
     "data": {
      "text/plain": [
       "'unable to send webex invite with 2 different conference rooms'"
      ]
     },
     "execution_count": 14,
     "metadata": {},
     "output_type": "execute_result"
    }
   ],
   "source": [
    "df_inp.ix[0,'text_clean']"
   ]
  },
  {
   "cell_type": "code",
   "execution_count": 278,
   "metadata": {
    "collapsed": true
   },
   "outputs": [],
   "source": [
    "# #' '.join(removeStop(df_inp.ix[0,'text_clean'].str)\n",
    "\n",
    "# filtered_words=[word for word in df_inp.ix[0,'text_clean'] if word not in stopwords.words('english')]\n",
    "# ''.join(filtered_words)"
   ]
  },
  {
   "cell_type": "code",
   "execution_count": 15,
   "metadata": {
    "collapsed": true
   },
   "outputs": [],
   "source": [
    "def removeStop(inp_str):\n",
    "    clean_word=''\n",
    "    for word in inp_str.split():\n",
    "        if word not in stopwords.words('english'):\n",
    "            clean_word=clean_word+' '+word\n",
    "    return clean_word  "
   ]
  },
  {
   "cell_type": "code",
   "execution_count": 16,
   "metadata": {
    "collapsed": false
   },
   "outputs": [
    {
     "data": {
      "text/plain": [
       "' unable send webex invite 2 different conference rooms'"
      ]
     },
     "execution_count": 16,
     "metadata": {},
     "output_type": "execute_result"
    }
   ],
   "source": [
    "removeStop(df_inp.ix[0,'text_clean'])"
   ]
  },
  {
   "cell_type": "code",
   "execution_count": 17,
   "metadata": {
    "collapsed": false
   },
   "outputs": [
    {
     "data": {
      "text/plain": [
       "8739"
      ]
     },
     "execution_count": 17,
     "metadata": {},
     "output_type": "execute_result"
    }
   ],
   "source": [
    "len(df_inp['text_clean'])"
   ]
  },
  {
   "cell_type": "code",
   "execution_count": 18,
   "metadata": {
    "collapsed": true
   },
   "outputs": [],
   "source": [
    "##### Commented out Stop Words removal\n",
    "#### df_inp['text_clean_stop']=df_inp['text_clean'].map(lambda x: removeStop(x))\n",
    "df_inp['text_clean_stop']=df_inp['text_clean']"
   ]
  },
  {
   "cell_type": "code",
   "execution_count": 19,
   "metadata": {
    "collapsed": false
   },
   "outputs": [
    {
     "data": {
      "text/plain": [
       "'unable to send webex invite with 2 different conference rooms'"
      ]
     },
     "execution_count": 19,
     "metadata": {},
     "output_type": "execute_result"
    }
   ],
   "source": [
    "df_inp.ix[0,'text_clean_stop']"
   ]
  },
  {
   "cell_type": "code",
   "execution_count": null,
   "metadata": {
    "collapsed": true
   },
   "outputs": [],
   "source": []
  },
  {
   "cell_type": "code",
   "execution_count": 20,
   "metadata": {
    "collapsed": true
   },
   "outputs": [],
   "source": [
    "df_inp['tokenized']=df_inp['text_clean_stop'].map(lambda x: word_tokenize(x))"
   ]
  },
  {
   "cell_type": "markdown",
   "metadata": {},
   "source": [
    "### We will use NLTK to tokenize.\n",
    "\n",
    "A document will now be a list of tokens"
   ]
  },
  {
   "cell_type": "code",
   "execution_count": 285,
   "metadata": {
    "collapsed": true
   },
   "outputs": [],
   "source": [
    "#df_inp.ix[0:3,'tokenized'].tolist()"
   ]
  },
  {
   "cell_type": "markdown",
   "metadata": {},
   "source": [
    "### We will create a dictionary from a list of documents. A dictionary maps every word to a number."
   ]
  },
  {
   "cell_type": "code",
   "execution_count": 21,
   "metadata": {
    "collapsed": false
   },
   "outputs": [
    {
     "name": "stdout",
     "output_type": "stream",
     "text": [
      "rooms\n",
      "155\n",
      "('Number of words in dictionary:', 3885)\n"
     ]
    }
   ],
   "source": [
    "dict_t = gensim.corpora.Dictionary(df_inp['tokenized'])\n",
    "print(dict_t[7])\n",
    "print(dict_t.token2id['longer'])\n",
    "print(\"Number of words in dictionary:\",len(dict_t))\n",
    "# for i in range(len(dict_t)):\n",
    "#     print(i, dict_t[i])"
   ]
  },
  {
   "cell_type": "code",
   "execution_count": 22,
   "metadata": {
    "collapsed": false
   },
   "outputs": [
    {
     "name": "stdout",
     "output_type": "stream",
     "text": [
      "370\n"
     ]
    }
   ],
   "source": [
    "print(dict_t.token2id['see'])"
   ]
  },
  {
   "cell_type": "code",
   "execution_count": 288,
   "metadata": {
    "collapsed": true
   },
   "outputs": [],
   "source": [
    "#dict_t.values()"
   ]
  },
  {
   "cell_type": "markdown",
   "metadata": {},
   "source": [
    "### Now we will create a corpus. \n",
    "A corpus is a list of bags of words. A bag-of-words representation for a document just lists the number of times each word occurs in the document."
   ]
  },
  {
   "cell_type": "code",
   "execution_count": 23,
   "metadata": {
    "collapsed": false
   },
   "outputs": [
    {
     "name": "stdout",
     "output_type": "stream",
     "text": [
      "['unable', 'to', 'send', 'webex', 'invite', 'with', '2', 'different', 'conference', 'rooms']\n",
      "[(0, 1), (1, 1), (2, 1), (3, 1), (4, 1), (5, 1), (6, 1), (7, 1), (8, 1), (9, 1)]\n"
     ]
    },
    {
     "data": {
      "text/plain": [
       "10"
      ]
     },
     "execution_count": 23,
     "metadata": {},
     "output_type": "execute_result"
    }
   ],
   "source": [
    "corpus = [dict_t.doc2bow(gen_doc) for gen_doc in df_inp['tokenized']]\n",
    "print(df_inp['tokenized'][0])\n",
    "print(corpus[0])\n",
    "len(corpus[0])"
   ]
  },
  {
   "cell_type": "markdown",
   "metadata": {},
   "source": [
    "### Now we create a tf-idf model from the corpus. \n",
    "Note that num_nnz is the number of tokens."
   ]
  },
  {
   "cell_type": "code",
   "execution_count": 24,
   "metadata": {
    "collapsed": false
   },
   "outputs": [
    {
     "name": "stdout",
     "output_type": "stream",
     "text": [
      "TfidfModel(num_docs=8739, num_nnz=61961)\n",
      "61961\n"
     ]
    }
   ],
   "source": [
    "tf_idf = gensim.models.TfidfModel(corpus)\n",
    "print(tf_idf)\n",
    "s = 0\n",
    "for i in corpus:\n",
    "    s += len(i)\n",
    "print(s)"
   ]
  },
  {
   "cell_type": "markdown",
   "metadata": {},
   "source": [
    "### Now we will create a similarity measure object in tf-idf space.\n",
    "tf-idf stands for term frequency-inverse document frequency. Term frequency is how often the word shows up in the document and inverse document fequency scales the value by how rare the word is in the corpus."
   ]
  },
  {
   "cell_type": "code",
   "execution_count": 29,
   "metadata": {
    "collapsed": false
   },
   "outputs": [
    {
     "name": "stdout",
     "output_type": "stream",
     "text": [
      "Similarity index with 8739 documents in 0 shards (stored under /Users/spandan.chakraborty/Documents/UML/Hackathon/)\n",
      "<class 'gensim.similarities.docsim.Similarity'>\n"
     ]
    }
   ],
   "source": [
    "sims = gensim.similarities.Similarity('/Users/spandan.chakraborty/Documents/UML/Hackathon/',tf_idf[corpus],\n",
    "                                      num_features=len(dict_t))\n",
    "print(sims)\n",
    "print(type(sims))"
   ]
  },
  {
   "cell_type": "markdown",
   "metadata": {},
   "source": [
    "### Now take the second incident  and convert it to tf-idf."
   ]
  },
  {
   "cell_type": "code",
   "execution_count": 292,
   "metadata": {
    "collapsed": true
   },
   "outputs": [],
   "source": [
    "# query_doc = [w.lower() for w in word_tokenize(df_inp.ix[1,'text_clean_stop'])]\n",
    "# print(query_doc)\n",
    "# query_doc_bow = dict_t.doc2bow(query_doc)\n",
    "# print(query_doc_bow)\n",
    "# query_doc_tf_idf = tf_idf[query_doc_bow]\n",
    "# print(query_doc_tf_idf)"
   ]
  },
  {
   "cell_type": "code",
   "execution_count": 293,
   "metadata": {
    "collapsed": true
   },
   "outputs": [],
   "source": [
    "# sims[query_doc_tf_idf]\n",
    "# len(sims[query_doc_tf_idf])"
   ]
  },
  {
   "cell_type": "code",
   "execution_count": 294,
   "metadata": {
    "collapsed": true
   },
   "outputs": [],
   "source": [
    "# temp=sims[query_doc_tf_idf]\n",
    "# temp2=sorted(range(len(temp)), key=lambda i: temp[i], reverse=True)[:5]"
   ]
  },
  {
   "cell_type": "code",
   "execution_count": 295,
   "metadata": {
    "collapsed": true
   },
   "outputs": [],
   "source": [
    "# temp2"
   ]
  },
  {
   "cell_type": "code",
   "execution_count": 296,
   "metadata": {
    "collapsed": true
   },
   "outputs": [],
   "source": [
    "# [temp[x]*100 for x in temp2]"
   ]
  },
  {
   "cell_type": "code",
   "execution_count": 297,
   "metadata": {
    "collapsed": true
   },
   "outputs": [],
   "source": [
    "# df_inp.ix[[1,122,92,244,151],'text_clean_stop']"
   ]
  },
  {
   "cell_type": "code",
   "execution_count": 298,
   "metadata": {
    "collapsed": true
   },
   "outputs": [],
   "source": [
    "# df_inp.ix[temp2,'text_clean_stop']"
   ]
  },
  {
   "cell_type": "code",
   "execution_count": 26,
   "metadata": {
    "collapsed": true
   },
   "outputs": [],
   "source": [
    "#dict(zip(df_inp.ix[[1,122,92,244,151],'number'],[temp[x]*100 for x in temp2]))"
   ]
  },
  {
   "cell_type": "markdown",
   "metadata": {},
   "source": [
    "#### Following code was used to connect a ServiceNow instance to get the input Incident . The Input incident to be compared against the incidents we have got  in a CSV file "
   ]
  },
  {
   "cell_type": "code",
   "execution_count": 300,
   "metadata": {
    "collapsed": true
   },
   "outputs": [],
   "source": [
    "# Set polling interval\n",
    "\n",
    "\n",
    "\n",
    "# Set instance username/password\n",
    "user = 'surfers.hackathon'\n",
    "pwd = 'surfers.hackathon'\n",
    "\n",
    "# Set the request parameters\n",
    "getUrl = 'https://surfhackathon103.service-now.com/api/now/table/u_incident_matching?sysparm_query=u_responded=false'\n",
    "\n",
    "# Set proper headers\n",
    "getHeaders = {\"Accept\": \"application/json\"}\n",
    "putHeaders = {\"Content-Type\": \"application/json\",\n",
    "                  \"Accept\": \"application/json\"}\n",
    "\n",
    "def poll():\n",
    "    # Do the HTTP request\n",
    "    response = requests.get(getUrl, auth=(user, pwd), headers=getHeaders)\n",
    "\n",
    "    # Check for HTTP codes other than 200\n",
    "    if response.status_code == 200:\n",
    "\n",
    "        responseJson = response.json()\n",
    "\n",
    "        for i in responseJson[\"result\"]:\n",
    "            sysID = i[\"sys_id\"]\n",
    "\n",
    "            # call ml function here and assign return value to responseText\n",
    "            responseText = \"Responded to \" + i[\"u_incident\"]\n",
    "            responseJson = {}\n",
    "            \n",
    "            ### Call the mdodel\n",
    "            responseText=processInString(i[\"u_description\"])\n",
    "            \n",
    "            \n",
    "            \n",
    "            responseJson[\"u_response\"] = responseText\n",
    "            responseJson[\"u_responded\"] = \"true\"\n",
    "            responseString = json.dumps(responseJson)\n",
    "            putUrl = 'https://surfhackathon103.service-now.com/api/now/table/u_incident_matching/' + sysID\n",
    "\n",
    "            update = requests.put(putUrl, auth=(\n",
    "                user, pwd), headers=putHeaders, data=responseString)\n",
    "            print( i[\"u_description\"])\n",
    "            print(responseText)\n",
    "\n",
    "\n",
    "\n"
   ]
  },
  {
   "cell_type": "code",
   "execution_count": 302,
   "metadata": {
    "collapsed": false
   },
   "outputs": [
    {
     "name": "stdout",
     "output_type": "stream",
     "text": [
      "[3249, 3277, 3351, 2962, 3253]\n",
      "Cannot connect to outlook Cannot connect to outlook\n",
      "{'INC0048176': 66.128993034362793, 'INC0208136': 62.239706516265869, 'INC0003602': 62.240928411483765, 'INC0063836': 61.903637647628784, 'INC0065500': 66.128993034362793}\n",
      "[3254, 3242, 3348, 3065, 3051]\n",
      "Cannot log into okta Cannot log into okta\n",
      "{'INC0005714': 59.45172905921936, 'INC0062501': 60.741674900054932, 'INC0165344': 57.727164030075073, 'INC0071616': 59.45172905921936, 'INC0157032': 58.146721124649048}\n",
      "[3242, 3348, 3051, 3056, 3098]\n",
      "Cannot login to okta Cannot login to okta\n",
      "{'INC0162012': 97.099208831787109, 'INC0005714': 100.0, 'INC0165344': 97.099208831787109, 'INC0071616': 100.0, 'INC0146708': 97.099208831787109}\n",
      "[6375, 6479, 6515, 6272, 6621]\n",
      "Need to reset VPN token Need to reset VPN token\n",
      "{'INC0084903': 86.938679218292236, 'INC0064544': 84.231770038604736, 'INC0145463': 86.938679218292236, 'INC0003697': 76.730334758758545, 'INC0004114': 76.730334758758545}\n",
      "[8072, 8067, 8068, 8069, 8070]\n",
      "Video conference not working video conference not working\n",
      "{'INC0036289': 63.113313913345337, 'INC0039602': 59.342825412750244, 'INC0039603': 59.342825412750244, 'INC0039556': 59.342825412750244, 'INC0039607': 59.342825412750244}\n",
      "[4167, 4181, 4171, 4178, 4160]\n",
      "Spill coffee on my laptop Spill coffee on my laptop\n",
      "{'INC0177687': 56.542932987213135, 'INC0041696': 59.398168325424194, 'INC0116082': 94.42363977432251, 'INC0079695': 71.169745922088623, 'INC0031945': 83.453881740570068}\n",
      "[8446, 8449, 900, 8309, 7095]\n",
      "kitchen cleanup kitchen cleanup\n",
      "{'INC0036201': 27.385538816452026, 'INC0129840': 33.482596278190613, 'INC0157049': 63.997465372085571, 'INC0201113': 35.020017623901367, 'INC0096006': 41.854318976402283}\n",
      "[8470, 8462, 2170, 561, 446]\n",
      "broken light on building A second floor broken light on building A second floor\n",
      "{'INC0009049': 43.678241968154907, 'INC0052692': 32.553911209106445, 'INC0111909': 29.765111207962036, 'INC0146548': 36.655038595199585, 'INC0084971': 31.295114755630493}\n",
      "[8465, 8462, 8470, 446, 8300]\n",
      "broken light on building B broken light on building B\n",
      "{'INC0009049': 32.677501440048218, 'INC0113303': 54.350674152374268, 'INC0111909': 31.623458862304688, 'INC0146548': 38.943549990653992, 'INC0171932': 26.882222294807434}\n",
      "[8081, 8088, 8095, 7687, 7692]\n",
      "need access to surf need access to surf\n",
      "{'INC0182842': 62.0536208152771, 'INC0166491': 57.253062725067139, 'INC0204043': 62.0536208152771, 'INC0010953': 54.939234256744385, 'INC0006961': 54.852241277694702}\n",
      "[8081, 8088, 8095, 8079, 8078]\n",
      "new hire need access to surf need access to surf\n",
      "{'INC0182842': 86.592406034469604, 'INC0166491': 79.893487691879272, 'INC0204043': 86.592406034469604, 'INC0210958': 70.525199174880981, 'INC0209842': 71.197164058685303}\n",
      "[1011, 2058, 2420, 2432, 1798]\n",
      "Need to reset AD password Need to reset AD password\n",
      "{'INC0015949': 100.0, 'INC0190250': 100.0, 'INC0073234': 100.0, 'INC0017709': 100.0, 'INC0116269': 95.860111713409424}\n",
      "[889, 3343, 3282, 340, 1054]\n",
      "cannot join webex meeting cannot join webex meeting\n",
      "{'INC0046219': 34.563907980918884, 'INC0007612': 36.574822664260864, 'INC0203900': 61.528652906417847, 'INC0184863': 30.772116780281067, 'INC0139450': 31.766867637634277}\n",
      "[889, 3343, 3282, 340, 2250]\n",
      "cannot join webex cannot join webex\n",
      "{'INC0046219': 42.452478408813477, 'INC0007612': 44.922345876693726, 'INC0203900': 75.571417808532715, 'INC0139450': 39.017060399055481, 'INC0041257': 37.739071249961853}\n",
      "[3343, 2250, 1077, 3282, 3028]\n",
      "webex broken \n",
      "{'INC0046219': 53.992897272109985, 'INC0179140': 54.226016998291016, 'INC0007612': 60.955893993377686, 'INC0177799': 53.622198104858398, 'INC0041257': 60.674655437469482}\n",
      "[6728, 6643, 6648, 6650, 6664]\n",
      "need to install software on my laptop need to install software on my laptop\n",
      "{'INC0174722': 75.894832611083984, 'INC0207375': 75.146579742431641, 'INC0207286': 75.146579742431641, 'INC0208510': 75.146579742431641, 'INC0204751': 75.146579742431641}\n",
      "[5860, 5861, 5768, 137, 1924]\n",
      "test user\n",
      "{'INC0102356': 51.76236629486084, 'INC0050499': 64.524060487747192, 'INC0050596': 64.524060487747192, 'INC0177867': 58.222460746765137, 'INC0061325': 62.036818265914917}\n",
      "[4413, 4418, 4421, 4422, 4357]\n",
      "my monitor is broken \n",
      "{'INC0212811': 92.453032732009888, 'INC0003154': 100.0, 'INC0034697': 100.0, 'INC0057357': 100.0, 'INC0075449': 100.0}\n",
      "[4606, 4809, 4842, 5011, 5015]\n",
      "Need a new mouser \n",
      "{'INC0205371': 28.725442290306091, 'INC0105177': 66.810363531112671, 'INC0177036': 28.725442290306091, 'INC0177138': 28.725442290306091, 'INC0208456': 28.725442290306091}\n",
      "[7190, 7142, 7289, 7383, 7162]\n",
      "cannot submit timesheet \n",
      "{'INC0189600': 70.620352029800415, 'INC0211810': 60.758936405181885, 'INC0209386': 86.92326545715332, 'INC0170160': 67.575740814208984, 'INC0213705': 83.770763874053955}\n",
      "[7190, 7142, 7289, 5860, 5861]\n",
      "Test user Unable to submit timesheet\n",
      "{'INC0189600': 55.473029613494873, 'INC0050499': 46.628081798553467, 'INC0209386': 68.279135227203369, 'INC0050596': 46.628081798553467, 'INC0213705': 55.7403564453125}\n",
      "[7379, 7668, 7381, 7384, 7388]\n",
      "cannot submit timecard \n",
      "{'INC0170129': 58.218395709991455, 'INC0170282': 59.237688779830933, 'INC0170144': 58.218395709991455, 'INC0026138': 78.003448247909546, 'INC0170474': 83.199930191040039}\n",
      "[7379, 7668, 7381, 7384, 7388]\n",
      "cannot submit timecard \n",
      "{'INC0170129': 58.218395709991455, 'INC0170282': 59.237688779830933, 'INC0170144': 58.218395709991455, 'INC0026138': 78.003448247909546, 'INC0170474': 83.199930191040039}\n",
      "[7668, 7379, 7372, 7486, 7655]\n",
      "unable to submit timecard \n",
      "{'INC0035720': 58.31979513168335, 'INC0126594': 58.31979513168335, 'INC0170918': 58.31979513168335, 'INC0026138': 80.560213327407837, 'INC0170474': 76.35270357131958}\n",
      "[7681, 7578, 7660, 7368, 7121]\n",
      "Time card issue on deployment \n",
      "{'INC0015839': 76.482701301574707, 'INC0215565': 57.416713237762451, 'INC0075309': 71.915578842163086, 'INC0171992': 57.459414005279541, 'INC0031724': 64.06940221786499}\n",
      "[7668, 7379, 7372, 7486, 7655]\n",
      "unable to submit timecard \n",
      "{'INC0035720': 58.31979513168335, 'INC0126594': 58.31979513168335, 'INC0170918': 58.31979513168335, 'INC0026138': 80.560213327407837, 'INC0170474': 76.35270357131958}\n",
      "[7415, 7527, 7409, 7246, 3972]\n",
      "Time card WAR request \n",
      "{'INC0018322': 51.666414737701416, 'INC0201933': 52.343744039535522, 'INC0116899': 63.322079181671143, 'INC0161640': 59.232199192047119, 'INC0158313': 63.945555686950684}\n",
      "[7255, 7376, 7415, 7527, 7377]\n",
      "Time card WAR auth \n",
      "{'INC0199528': 55.175304412841797, 'INC0116899': 50.025343894958496, 'INC0170715': 45.287549495697021, 'INC0170756': 53.216850757598877, 'INC0158313': 50.517892837524414}\n",
      "[7560, 7253, 7235, 7549, 7389]\n",
      "Timecard issue on resource plan \n",
      "{'INC0199616': 51.821577548980713, 'INC0204495': 49.810951948165894, 'INC0170126': 46.143531799316406, 'INC0094027': 60.080850124359131, 'INC0103177': 48.639172315597534}\n",
      "[7376, 7255, 7377, 4891, 6644]\n",
      "Timecard WAR auth \n",
      "{'INC0199528': 65.422320365905762, 'INC0199869': 46.623635292053223, 'INC0207799': 43.561896681785583, 'INC0170715': 47.399812936782837, 'INC0170756': 66.216230392456055}\n",
      "[7376, 7255, 7377, 4891, 7527]\n",
      "Timecard WAR auth issue \n",
      "{'INC0199528': 60.34160852432251, 'INC0199869': 43.002834916114807, 'INC0170715': 43.718734383583069, 'INC0170756': 61.073863506317139, 'INC0116899': 42.0378178358078}\n",
      "[7527, 7389, 7255, 7415, 7480]\n",
      "Timecard WAR issue \n",
      "{'INC0199528': 50.489675998687744, 'INC0158313': 49.381986260414124, 'INC0116899': 54.929566383361816, 'INC0127001': 45.813614130020142, 'INC0170126': 53.234720230102539}\n",
      "[7413, 7275, 7255, 7415, 7480]\n",
      "Timecard WAR authorization \n",
      "{'INC0193179': 45.385125279426575, 'INC0199528': 38.465318083763123, 'INC0158696': 52.387183904647827, 'INC0127001': 34.90288257598877, 'INC0158313': 37.621429562568665}\n",
      "[7376, 7255, 7377, 4891, 6644]\n",
      "Timecard WAR auth \n",
      "{'INC0199528': 65.422320365905762, 'INC0199869': 46.623635292053223, 'INC0207799': 43.561896681785583, 'INC0170715': 47.399812936782837, 'INC0170756': 66.216230392456055}\n",
      "[7681, 4972, 5046, 5547, 5575]\n",
      "time card issue \n",
      "{'INC0015839': 100.0, 'INC0182320': 56.525224447250366, 'INC0085806': 56.525224447250366, 'INC0089689': 56.525224447250366, 'INC0174467': 56.525224447250366}\n",
      "[697, 712, 737, 783, 789]\n",
      "Unable to change AD password \n",
      "{'INC0213139': 96.60191535949707, 'INC0210727': 96.60191535949707, 'INC0210498': 96.60191535949707, 'INC0211729': 96.60191535949707, 'INC0215319': 96.60191535949707}\n",
      "[691, 711, 721, 722, 730]\n",
      "reset AD password \n",
      "{'INC0215600': 100.0, 'INC0212176': 100.0, 'INC0212361': 100.0, 'INC0213395': 100.0, 'INC0211906': 100.0}\n",
      "[691, 711, 721, 722, 730]\n",
      "reset AD password reset AD password\n",
      "{'INC0215600': 100.0, 'INC0212176': 100.0, 'INC0212361': 100.0, 'INC0213395': 100.0, 'INC0211906': 100.0}\n",
      "[691, 711, 721, 722, 730]\n",
      "reset AD password reset AD password\n",
      "{'INC0215600': 100.0, 'INC0212176': 100.0, 'INC0212361': 100.0, 'INC0213395': 100.0, 'INC0211906': 100.0}\n",
      "[6511, 5797, 5805, 4054, 4753]\n",
      "my moniter is broken Need a new one\n",
      "{'INC0056452': 62.756669521331787, 'INC0011792': 57.942306995391846, 'INC0065238': 68.08968186378479, 'INC0006424': 54.145920276641846, 'INC0056274': 62.756669521331787}\n",
      "[5532, 3419, 3627, 3967, 5054]\n",
      "my moniter is broken my moniter is broken\n",
      "{'INC0084928': 81.436407566070557, 'INC0172768': 71.31536602973938, 'INC0093748': 83.006364107131958, 'INC0018504': 81.436407566070557, 'INC0183324': 81.436407566070557}\n",
      "[5532, 3419, 3627, 3967, 5054]\n",
      "my moniter is broken \n",
      "{'INC0084928': 81.436407566070557, 'INC0172768': 71.31536602973938, 'INC0093748': 83.006364107131958, 'INC0018504': 81.436407566070557, 'INC0183324': 81.436407566070557}\n",
      "[4298, 4289, 4237, 4238, 4353]\n",
      "need port number to servicenow need port number to servicenow\n",
      "{'INC0011574': 55.336064100265503, 'INC0207778': 64.561688899993896, 'INC0208336': 64.561688899993896, 'INC0149178': 72.580039501190186, 'INC0133405': 80.324405431747437}\n",
      "[4161, 4173, 4159, 4163, 4167]\n",
      "spilled coffee on my laptop spilled coffee on my laptop\n",
      "{'INC0066336': 75.547993183135986, 'INC0116082': 55.905663967132568, 'INC0183386': 73.896372318267822, 'INC0158067': 63.264596462249756, 'INC0160527': 80.678582191467285}\n",
      "[2944, 2953, 2961, 2965, 2969]\n",
      "unable to login okta unable to login okta\n",
      "{'INC0208780': 88.394010066986084, 'INC0205543': 88.394010066986084, 'INC0204012': 88.394010066986084, 'INC0211687': 88.394010066986084, 'INC0215197': 88.394010066986084}\n",
      "[6375, 6479, 6356, 2742, 6447]\n",
      "Reset VPN token \n",
      "{'INC0084903': 100.00001192092896, 'INC0167850': 86.454164981842041, 'INC0145463': 100.00001192092896, 'INC0110692': 79.720443487167358, 'INC0109794': 79.720443487167358}\n",
      "[3049, 3025, 3026, 3034, 3022]\n",
      "google authenticator \n",
      "{'INC0179607': 64.51265811920166, 'INC0178883': 61.452877521514893, 'INC0174817': 60.979723930358887, 'INC0180592': 58.920192718505859, 'INC0166362': 67.804956436157227}\n",
      "[4161, 4173, 4159, 4163, 4167]\n",
      "spilled coffee on my laptop \n",
      "{'INC0066336': 75.547993183135986, 'INC0116082': 55.905663967132568, 'INC0183386': 73.896372318267822, 'INC0158067': 63.264596462249756, 'INC0160527': 80.678582191467285}\n",
      "[3026, 3025, 3049, 3034, 3022]\n",
      "unable to login using google authenticator \n",
      "{'INC0179607': 62.001383304595947, 'INC0178883': 72.935312986373901, 'INC0174817': 58.605968952178955, 'INC0180592': 56.626605987548828, 'INC0166362': 61.327540874481201}\n",
      "[3026, 3025, 3049, 3034, 3022]\n",
      "unable to login using google authenticator unable to login using google authenticator\n",
      "{'INC0179607': 62.001383304595947, 'INC0178883': 72.935312986373901, 'INC0174817': 58.605968952178955, 'INC0180592': 56.626605987548828, 'INC0166362': 61.327540874481201}\n",
      "[3026, 3025, 3049, 3034, 3022]\n",
      "unable to login using google authenticator \n",
      "{'INC0179607': 62.001383304595947, 'INC0178883': 72.935312986373901, 'INC0174817': 58.605968952178955, 'INC0180592': 56.626605987548828, 'INC0166362': 61.327540874481201}\n",
      "[3026, 3025, 3049, 3034, 3022]\n",
      "unable to login using google authenticator \n",
      "{'INC0179607': 62.001383304595947, 'INC0178883': 72.935312986373901, 'INC0174817': 58.605968952178955, 'INC0180592': 56.626605987548828, 'INC0166362': 61.327540874481201}\n",
      "[7376, 7255, 7377, 4891, 6644]\n",
      "Timecard WAR auth \n",
      "{'INC0199528': 65.422320365905762, 'INC0199869': 46.623635292053223, 'INC0207799': 43.561896681785583, 'INC0170715': 47.399812936782837, 'INC0170756': 66.216230392456055}\n",
      "[7376, 7255, 7377, 4891, 6644]\n",
      "Timecard WAR Auth \n",
      "{'INC0199528': 65.422320365905762, 'INC0199869': 46.623635292053223, 'INC0207799': 43.561896681785583, 'INC0170715': 47.399812936782837, 'INC0170756': 66.216230392456055}\n",
      "[3027, 3959, 5854, 6541, 4926]\n",
      "lost phone and need a new token to appear on okta login screen \n",
      "{'INC0050066': 39.139673113822937, 'INC0177899': 92.942303419113159, 'INC0193168': 36.336305737495422, 'INC0018655': 39.364618062973022, 'INC0051118': 39.139673113822937}\n",
      "[5572, 5674, 5819, 6047, 6218]\n",
      "issues with opportunity \n",
      "{'INC0085937': 47.681832313537598, 'INC0009706': 47.681832313537598, 'INC0055626': 47.681832313537598, 'INC0073103': 47.681832313537598, 'INC0028456': 47.681832313537598}\n",
      "[7253, 7560, 7549, 7235, 7617]\n",
      "Unable to create timecard for resource plan \n",
      "{'INC0199616': 67.03258752822876, 'INC0204495': 47.629398107528687, 'INC0056731': 42.177939414978027, 'INC0094027': 57.449507713317871, 'INC0103177': 49.666127562522888}\n",
      "[4448, 4451, 4457, 4458, 4460]\n",
      "I need a mouse \n",
      "{'INC0196990': 100.0, 'INC0201727': 100.0, 'INC0198879': 100.0, 'INC0206617': 100.0, 'INC0197941': 100.0}\n",
      "[4452, 4737, 4670, 4735, 4704]\n",
      "I need ergonomics keyboard, mouse and keyboard tray \n",
      "{'INC0201608': 97.822195291519165, 'INC0059843': 59.340775012969971, 'INC0014987': 56.780964136123657, 'INC0032157': 54.593628644943237, 'INC0011854': 61.855614185333252}\n",
      "[4452, 4670, 4735, 4542, 4757]\n",
      "I need ergonomics keyboard \n",
      "{'INC0201608': 77.65049934387207, 'INC0059843': 68.68445873260498, 'INC0014987': 42.09427535533905, 'INC0142513': 40.774109959602356, 'INC0006027': 39.289745688438416}\n",
      "[4448, 4451, 4457, 4458, 4460]\n",
      "Need a mouse \n",
      "{'INC0196990': 100.0, 'INC0201727': 100.0, 'INC0198879': 100.0, 'INC0206617': 100.0, 'INC0197941': 100.0}\n",
      "[4448, 4451, 4457, 4458, 4460]\n",
      "need a mouse \n",
      "{'INC0196990': 100.0, 'INC0201727': 100.0, 'INC0198879': 100.0, 'INC0206617': 100.0, 'INC0197941': 100.0}\n",
      "[4161, 4173, 4159, 4163, 4167]\n",
      "Coffee spilled on laptop \n",
      "{'INC0066336': 75.547993183135986, 'INC0116082': 55.905663967132568, 'INC0183386': 73.896372318267822, 'INC0158067': 63.264596462249756, 'INC0160527': 80.678582191467285}\n",
      "[4161, 4173, 4159, 4163, 4167]\n",
      "Coffee was spilled on my laptop \n",
      "{'INC0066336': 75.547993183135986, 'INC0116082': 55.905663967132568, 'INC0183386': 73.896372318267822, 'INC0158067': 63.264596462249756, 'INC0160527': 80.678582191467285}\n",
      "[4158, 4165, 4166, 4168, 4174]\n",
      "Water spilled on my laptop \n",
      "{'INC0140452': 95.784002542495728, 'INC0111591': 95.784002542495728, 'INC0192815': 95.784002542495728, 'INC0150777': 95.784002542495728, 'INC0064302': 95.784002542495728}\n",
      "[7376, 7255, 7377, 4891, 6644]\n",
      "Timecard WAR Auth \n",
      "{'INC0199528': 65.422320365905762, 'INC0199869': 46.623635292053223, 'INC0207799': 43.561896681785583, 'INC0170715': 47.399812936782837, 'INC0170756': 66.216230392456055}\n",
      "[7376, 7255, 7377, 4891, 6644]\n",
      "Timecard WAR Auth \n",
      "{'INC0199528': 65.422320365905762, 'INC0199869': 46.623635292053223, 'INC0207799': 43.561896681785583, 'INC0170715': 47.399812936782837, 'INC0170756': 66.216230392456055}\n",
      "[7376, 7255, 7377, 4891, 6644]\n",
      "Timecard WAR Auth \n",
      "{'INC0199528': 65.422320365905762, 'INC0199869': 46.623635292053223, 'INC0207799': 43.561896681785583, 'INC0170715': 47.399812936782837, 'INC0170756': 66.216230392456055}\n",
      "[1, 2, 3, 4, 5]\n",
      "Karunakar Solipeta \n",
      "{'INC0105631': 0.0, 'INC0144242': 0.0, 'INC0117180': 0.0, 'INC0115711': 0.0, 'INC0208378': 0.0}\n",
      "[4306, 4277, 4339, 4284, 4268]\n",
      "Opportunity ACV \n",
      "{'INC0160918': 25.0653475522995, 'INC0172795': 34.027981758117676, 'INC0114998': 63.34502100944519, 'INC0179981': 23.223094642162323, 'INC0037476': 27.932298183441162}\n",
      "[4161, 4173, 4159, 4163, 4167]\n",
      "Spilled coffee on laptop \n",
      "{'INC0066336': 75.547993183135986, 'INC0116082': 55.905663967132568, 'INC0183386': 73.896372318267822, 'INC0158067': 63.264596462249756, 'INC0160527': 80.678582191467285}\n",
      "[1, 2, 3, 4, 5]\n",
      " \n",
      "{'INC0105631': 0.0, 'INC0144242': 0.0, 'INC0117180': 0.0, 'INC0115711': 0.0, 'INC0208378': 0.0}\n",
      "[7681, 4972, 5046, 5547, 5575]\n",
      "time card issue \n",
      "{'INC0015839': 100.0, 'INC0182320': 56.525224447250366, 'INC0085806': 56.525224447250366, 'INC0089689': 56.525224447250366, 'INC0174467': 56.525224447250366}\n",
      "[4161, 4173, 4159, 4163, 4167]\n",
      "Spilled coffee on laptop \n",
      "{'INC0066336': 75.547993183135986, 'INC0116082': 55.905663967132568, 'INC0183386': 73.896372318267822, 'INC0158067': 63.264596462249756, 'INC0160527': 80.678582191467285}\n",
      "[1, 2, 3, 4, 5]\n",
      " \n",
      "{'INC0105631': 0.0, 'INC0144242': 0.0, 'INC0117180': 0.0, 'INC0115711': 0.0, 'INC0208378': 0.0}\n",
      "[4161, 4173, 4159, 4163, 4167]\n",
      "Spilled coffee on laptop \n",
      "{'INC0066336': 75.547993183135986, 'INC0116082': 55.905663967132568, 'INC0183386': 73.896372318267822, 'INC0158067': 63.264596462249756, 'INC0160527': 80.678582191467285}\n",
      "[4161, 4173, 4159, 4163, 4167]\n",
      "Spilled coffee on laptop \n",
      "{'INC0066336': 75.547993183135986, 'INC0116082': 55.905663967132568, 'INC0183386': 73.896372318267822, 'INC0158067': 63.264596462249756, 'INC0160527': 80.678582191467285}\n",
      "[2944, 2953, 2961, 2965, 2969]\n",
      "unable to login to okta \n",
      "{'INC0208780': 88.394010066986084, 'INC0205543': 88.394010066986084, 'INC0204012': 88.394010066986084, 'INC0211687': 88.394010066986084, 'INC0215197': 88.394010066986084}\n",
      "[7372, 7486, 7655, 7426, 7453]\n",
      "timecard \n",
      "{'INC0154804': 62.768155336380005, 'INC0035720': 72.648221254348755, 'INC0170918': 72.648221254348755, 'INC0136763': 62.151908874511719, 'INC0126594': 72.648221254348755}\n",
      "[4161, 4173, 4159, 4163, 4167]\n",
      "Spilled coffee on laptop \n",
      "{'INC0066336': 75.547993183135986, 'INC0116082': 55.905663967132568, 'INC0183386': 73.896372318267822, 'INC0158067': 63.264596462249756, 'INC0160527': 80.678582191467285}\n",
      "[7376, 7255, 7377, 4891, 6644]\n",
      "Timecard WAR auth \n",
      "{'INC0199528': 65.422320365905762, 'INC0199869': 46.623635292053223, 'INC0207799': 43.561896681785583, 'INC0170715': 47.399812936782837, 'INC0170756': 66.216230392456055}\n"
     ]
    },
    {
     "ename": "ConnectionError",
     "evalue": "HTTPSConnectionPool(host='surfhackathon103.service-now.com', port=443): Max retries exceeded with url: /api/now/table/u_incident_matching?sysparm_query=u_responded=false (Caused by NewConnectionError('<requests.packages.urllib3.connection.VerifiedHTTPSConnection object at 0x11cbc9950>: Failed to establish a new connection: [Errno 8] nodename nor servname provided, or not known',))",
     "output_type": "error",
     "traceback": [
      "\u001b[0;31m---------------------------------------------------------------------------\u001b[0m",
      "\u001b[0;31mConnectionError\u001b[0m                           Traceback (most recent call last)",
      "\u001b[0;32m<ipython-input-302-f59ac380fe26>\u001b[0m in \u001b[0;36m<module>\u001b[0;34m()\u001b[0m\n\u001b[1;32m      2\u001b[0m \u001b[0mpollInterval\u001b[0m \u001b[0;34m=\u001b[0m \u001b[0;36m1.0\u001b[0m\u001b[0;34m\u001b[0m\u001b[0m\n\u001b[1;32m      3\u001b[0m \u001b[0;32mwhile\u001b[0m \u001b[0mTrue\u001b[0m\u001b[0;34m:\u001b[0m\u001b[0;34m\u001b[0m\u001b[0m\n\u001b[0;32m----> 4\u001b[0;31m     \u001b[0mpoll\u001b[0m\u001b[0;34m(\u001b[0m\u001b[0;34m)\u001b[0m\u001b[0;34m\u001b[0m\u001b[0m\n\u001b[0m\u001b[1;32m      5\u001b[0m     \u001b[0mtime\u001b[0m\u001b[0;34m.\u001b[0m\u001b[0msleep\u001b[0m\u001b[0;34m(\u001b[0m\u001b[0mpollInterval\u001b[0m\u001b[0;34m)\u001b[0m\u001b[0;34m\u001b[0m\u001b[0m\n",
      "\u001b[0;32m<ipython-input-300-5aa502301155>\u001b[0m in \u001b[0;36mpoll\u001b[0;34m()\u001b[0m\n\u001b[1;32m     17\u001b[0m \u001b[0;32mdef\u001b[0m \u001b[0mpoll\u001b[0m\u001b[0;34m(\u001b[0m\u001b[0;34m)\u001b[0m\u001b[0;34m:\u001b[0m\u001b[0;34m\u001b[0m\u001b[0m\n\u001b[1;32m     18\u001b[0m     \u001b[0;31m# Do the HTTP request\u001b[0m\u001b[0;34m\u001b[0m\u001b[0;34m\u001b[0m\u001b[0m\n\u001b[0;32m---> 19\u001b[0;31m     \u001b[0mresponse\u001b[0m \u001b[0;34m=\u001b[0m \u001b[0mrequests\u001b[0m\u001b[0;34m.\u001b[0m\u001b[0mget\u001b[0m\u001b[0;34m(\u001b[0m\u001b[0mgetUrl\u001b[0m\u001b[0;34m,\u001b[0m \u001b[0mauth\u001b[0m\u001b[0;34m=\u001b[0m\u001b[0;34m(\u001b[0m\u001b[0muser\u001b[0m\u001b[0;34m,\u001b[0m \u001b[0mpwd\u001b[0m\u001b[0;34m)\u001b[0m\u001b[0;34m,\u001b[0m \u001b[0mheaders\u001b[0m\u001b[0;34m=\u001b[0m\u001b[0mgetHeaders\u001b[0m\u001b[0;34m)\u001b[0m\u001b[0;34m\u001b[0m\u001b[0m\n\u001b[0m\u001b[1;32m     20\u001b[0m \u001b[0;34m\u001b[0m\u001b[0m\n\u001b[1;32m     21\u001b[0m     \u001b[0;31m# Check for HTTP codes other than 200\u001b[0m\u001b[0;34m\u001b[0m\u001b[0;34m\u001b[0m\u001b[0m\n",
      "\u001b[0;32m/Users/frank.yan/anaconda/lib/python2.7/site-packages/requests/api.pyc\u001b[0m in \u001b[0;36mget\u001b[0;34m(url, params, **kwargs)\u001b[0m\n\u001b[1;32m     70\u001b[0m \u001b[0;34m\u001b[0m\u001b[0m\n\u001b[1;32m     71\u001b[0m     \u001b[0mkwargs\u001b[0m\u001b[0;34m.\u001b[0m\u001b[0msetdefault\u001b[0m\u001b[0;34m(\u001b[0m\u001b[0;34m'allow_redirects'\u001b[0m\u001b[0;34m,\u001b[0m \u001b[0mTrue\u001b[0m\u001b[0;34m)\u001b[0m\u001b[0;34m\u001b[0m\u001b[0m\n\u001b[0;32m---> 72\u001b[0;31m     \u001b[0;32mreturn\u001b[0m \u001b[0mrequest\u001b[0m\u001b[0;34m(\u001b[0m\u001b[0;34m'get'\u001b[0m\u001b[0;34m,\u001b[0m \u001b[0murl\u001b[0m\u001b[0;34m,\u001b[0m \u001b[0mparams\u001b[0m\u001b[0;34m=\u001b[0m\u001b[0mparams\u001b[0m\u001b[0;34m,\u001b[0m \u001b[0;34m**\u001b[0m\u001b[0mkwargs\u001b[0m\u001b[0;34m)\u001b[0m\u001b[0;34m\u001b[0m\u001b[0m\n\u001b[0m\u001b[1;32m     73\u001b[0m \u001b[0;34m\u001b[0m\u001b[0m\n\u001b[1;32m     74\u001b[0m \u001b[0;34m\u001b[0m\u001b[0m\n",
      "\u001b[0;32m/Users/frank.yan/anaconda/lib/python2.7/site-packages/requests/api.pyc\u001b[0m in \u001b[0;36mrequest\u001b[0;34m(method, url, **kwargs)\u001b[0m\n\u001b[1;32m     56\u001b[0m     \u001b[0;31m# cases, and look like a memory leak in others.\u001b[0m\u001b[0;34m\u001b[0m\u001b[0;34m\u001b[0m\u001b[0m\n\u001b[1;32m     57\u001b[0m     \u001b[0;32mwith\u001b[0m \u001b[0msessions\u001b[0m\u001b[0;34m.\u001b[0m\u001b[0mSession\u001b[0m\u001b[0;34m(\u001b[0m\u001b[0;34m)\u001b[0m \u001b[0;32mas\u001b[0m \u001b[0msession\u001b[0m\u001b[0;34m:\u001b[0m\u001b[0;34m\u001b[0m\u001b[0m\n\u001b[0;32m---> 58\u001b[0;31m         \u001b[0;32mreturn\u001b[0m \u001b[0msession\u001b[0m\u001b[0;34m.\u001b[0m\u001b[0mrequest\u001b[0m\u001b[0;34m(\u001b[0m\u001b[0mmethod\u001b[0m\u001b[0;34m=\u001b[0m\u001b[0mmethod\u001b[0m\u001b[0;34m,\u001b[0m \u001b[0murl\u001b[0m\u001b[0;34m=\u001b[0m\u001b[0murl\u001b[0m\u001b[0;34m,\u001b[0m \u001b[0;34m**\u001b[0m\u001b[0mkwargs\u001b[0m\u001b[0;34m)\u001b[0m\u001b[0;34m\u001b[0m\u001b[0m\n\u001b[0m\u001b[1;32m     59\u001b[0m \u001b[0;34m\u001b[0m\u001b[0m\n\u001b[1;32m     60\u001b[0m \u001b[0;34m\u001b[0m\u001b[0m\n",
      "\u001b[0;32m/Users/frank.yan/anaconda/lib/python2.7/site-packages/requests/sessions.pyc\u001b[0m in \u001b[0;36mrequest\u001b[0;34m(self, method, url, params, data, headers, cookies, files, auth, timeout, allow_redirects, proxies, hooks, stream, verify, cert, json)\u001b[0m\n\u001b[1;32m    516\u001b[0m         }\n\u001b[1;32m    517\u001b[0m         \u001b[0msend_kwargs\u001b[0m\u001b[0;34m.\u001b[0m\u001b[0mupdate\u001b[0m\u001b[0;34m(\u001b[0m\u001b[0msettings\u001b[0m\u001b[0;34m)\u001b[0m\u001b[0;34m\u001b[0m\u001b[0m\n\u001b[0;32m--> 518\u001b[0;31m         \u001b[0mresp\u001b[0m \u001b[0;34m=\u001b[0m \u001b[0mself\u001b[0m\u001b[0;34m.\u001b[0m\u001b[0msend\u001b[0m\u001b[0;34m(\u001b[0m\u001b[0mprep\u001b[0m\u001b[0;34m,\u001b[0m \u001b[0;34m**\u001b[0m\u001b[0msend_kwargs\u001b[0m\u001b[0;34m)\u001b[0m\u001b[0;34m\u001b[0m\u001b[0m\n\u001b[0m\u001b[1;32m    519\u001b[0m \u001b[0;34m\u001b[0m\u001b[0m\n\u001b[1;32m    520\u001b[0m         \u001b[0;32mreturn\u001b[0m \u001b[0mresp\u001b[0m\u001b[0;34m\u001b[0m\u001b[0m\n",
      "\u001b[0;32m/Users/frank.yan/anaconda/lib/python2.7/site-packages/requests/sessions.pyc\u001b[0m in \u001b[0;36msend\u001b[0;34m(self, request, **kwargs)\u001b[0m\n\u001b[1;32m    637\u001b[0m \u001b[0;34m\u001b[0m\u001b[0m\n\u001b[1;32m    638\u001b[0m         \u001b[0;31m# Send the request\u001b[0m\u001b[0;34m\u001b[0m\u001b[0;34m\u001b[0m\u001b[0m\n\u001b[0;32m--> 639\u001b[0;31m         \u001b[0mr\u001b[0m \u001b[0;34m=\u001b[0m \u001b[0madapter\u001b[0m\u001b[0;34m.\u001b[0m\u001b[0msend\u001b[0m\u001b[0;34m(\u001b[0m\u001b[0mrequest\u001b[0m\u001b[0;34m,\u001b[0m \u001b[0;34m**\u001b[0m\u001b[0mkwargs\u001b[0m\u001b[0;34m)\u001b[0m\u001b[0;34m\u001b[0m\u001b[0m\n\u001b[0m\u001b[1;32m    640\u001b[0m \u001b[0;34m\u001b[0m\u001b[0m\n\u001b[1;32m    641\u001b[0m         \u001b[0;31m# Total elapsed time of the request (approximately)\u001b[0m\u001b[0;34m\u001b[0m\u001b[0;34m\u001b[0m\u001b[0m\n",
      "\u001b[0;32m/Users/frank.yan/anaconda/lib/python2.7/site-packages/requests/adapters.pyc\u001b[0m in \u001b[0;36msend\u001b[0;34m(self, request, stream, timeout, verify, cert, proxies)\u001b[0m\n\u001b[1;32m    500\u001b[0m                 \u001b[0;32mraise\u001b[0m \u001b[0mProxyError\u001b[0m\u001b[0;34m(\u001b[0m\u001b[0me\u001b[0m\u001b[0;34m,\u001b[0m \u001b[0mrequest\u001b[0m\u001b[0;34m=\u001b[0m\u001b[0mrequest\u001b[0m\u001b[0;34m)\u001b[0m\u001b[0;34m\u001b[0m\u001b[0m\n\u001b[1;32m    501\u001b[0m \u001b[0;34m\u001b[0m\u001b[0m\n\u001b[0;32m--> 502\u001b[0;31m             \u001b[0;32mraise\u001b[0m \u001b[0mConnectionError\u001b[0m\u001b[0;34m(\u001b[0m\u001b[0me\u001b[0m\u001b[0;34m,\u001b[0m \u001b[0mrequest\u001b[0m\u001b[0;34m=\u001b[0m\u001b[0mrequest\u001b[0m\u001b[0;34m)\u001b[0m\u001b[0;34m\u001b[0m\u001b[0m\n\u001b[0m\u001b[1;32m    503\u001b[0m \u001b[0;34m\u001b[0m\u001b[0m\n\u001b[1;32m    504\u001b[0m         \u001b[0;32mexcept\u001b[0m \u001b[0mClosedPoolError\u001b[0m \u001b[0;32mas\u001b[0m \u001b[0me\u001b[0m\u001b[0;34m:\u001b[0m\u001b[0;34m\u001b[0m\u001b[0m\n",
      "\u001b[0;31mConnectionError\u001b[0m: HTTPSConnectionPool(host='surfhackathon103.service-now.com', port=443): Max retries exceeded with url: /api/now/table/u_incident_matching?sysparm_query=u_responded=false (Caused by NewConnectionError('<requests.packages.urllib3.connection.VerifiedHTTPSConnection object at 0x11cbc9950>: Failed to establish a new connection: [Errno 8] nodename nor servname provided, or not known',))"
     ]
    }
   ],
   "source": [
    "# Execute thread on polling interval\n",
    "pollInterval = 1.0\n",
    "while True:\n",
    "    poll()\n",
    "    time.sleep(pollInterval)"
   ]
  },
  {
   "cell_type": "code",
   "execution_count": null,
   "metadata": {
    "collapsed": true
   },
   "outputs": [],
   "source": [
    "#poll()"
   ]
  },
  {
   "cell_type": "code",
   "execution_count": 27,
   "metadata": {
    "collapsed": true
   },
   "outputs": [],
   "source": [
    "def processInString(inp):\n",
    "    ### Pre Process & sanitize words\n",
    "    query_doc=re.sub('[^A-Za-z0-9]+', ' ', inp).lower()\n",
    "    query_doc=removeStop(query_doc)\n",
    "    \n",
    "    query_doc=removeStop(query_doc)\n",
    "    \n",
    "    query_doc = [w.lower() for w in word_tokenize(query_doc)]  ### Later Santize Inp with a Cleansing Function \n",
    "    \n",
    "    #print(query_doc)\n",
    "    query_doc_bow = dict_t.doc2bow(query_doc)\n",
    "    #print(query_doc_bow)\n",
    "    query_doc_tf_idf = tf_idf[query_doc_bow]\n",
    "    #print(query_doc_tf_idf)\n",
    "    \n",
    "    ### GEt the Match\n",
    "    sims[query_doc_tf_idf]\n",
    "    #len(sims[query_doc_tf_idf])\n",
    "    temp=sims[query_doc_tf_idf]\n",
    "    temp2=sorted(range(len(temp)), key=lambda i: temp[i], reverse=True)[:5]\n",
    "    \n",
    "    new_list=[t3+1 for t3 in temp2]\n",
    "    print(new_list)\n",
    "    \n",
    "    ### Get the response\n",
    "    return dict(zip(df_inp.ix[new_list,'number'],[temp[x]*100 for x in temp2]))"
   ]
  },
  {
   "cell_type": "markdown",
   "metadata": {},
   "source": [
    "### The code below test Similarity %  for a test input"
   ]
  },
  {
   "cell_type": "code",
   "execution_count": 30,
   "metadata": {
    "collapsed": false
   },
   "outputs": [
    {
     "name": "stdout",
     "output_type": "stream",
     "text": [
      "[4887, 8449, 8444, 8309, 2792]\n"
     ]
    },
    {
     "data": {
      "text/plain": [
       "{'INC0088226': 32.834708690643311,\n",
       " 'INC0096006': 41.180235147476196,\n",
       " 'INC0129840': 32.943344116210938,\n",
       " 'INC0200067': 43.665087223052979,\n",
       " 'INC0201005': 33.520039916038513}"
      ]
     },
     "execution_count": 30,
     "metadata": {},
     "output_type": "execute_result"
    }
   ],
   "source": [
    "## test \n",
    "test_inp_short_desc='need kitchen clean up'\n",
    "test_inp_desc='vpn pin expired'\n",
    "\n",
    "processInString(test_inp_short_desc+' '+test_inp_desc)"
   ]
  },
  {
   "cell_type": "code",
   "execution_count": null,
   "metadata": {
    "collapsed": true
   },
   "outputs": [],
   "source": []
  },
  {
   "cell_type": "code",
   "execution_count": null,
   "metadata": {
    "collapsed": true
   },
   "outputs": [],
   "source": []
  }
 ],
 "metadata": {
  "kernelspec": {
   "display_name": "Python 2",
   "language": "python",
   "name": "python2"
  },
  "language_info": {
   "codemirror_mode": {
    "name": "ipython",
    "version": 2
   },
   "file_extension": ".py",
   "mimetype": "text/x-python",
   "name": "python",
   "nbconvert_exporter": "python",
   "pygments_lexer": "ipython2",
   "version": "2.7.13"
  }
 },
 "nbformat": 4,
 "nbformat_minor": 2
}
